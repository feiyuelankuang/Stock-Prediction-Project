{
 "cells": [
  {
   "cell_type": "code",
   "execution_count": 1,
   "metadata": {},
   "outputs": [],
   "source": [
    "from gensim.models import KeyedVectors\n",
    "import pandas as pd\n",
    "import os\n",
    "import string"
   ]
  },
  {
   "cell_type": "code",
   "execution_count": 2,
   "metadata": {},
   "outputs": [],
   "source": [
    "# Load vectors directly from the file\n",
    "model = KeyedVectors.load_word2vec_format('../data/GoogleNews-vectors-negative300.bin', binary=True)"
   ]
  },
  {
   "cell_type": "code",
   "execution_count": 3,
   "metadata": {},
   "outputs": [],
   "source": [
    "vec_dict = {}\n",
    "\n",
    "# Loop through folder\n",
    "for filename in os.listdir('../data/CNN_news/'):\n",
    "    if filename.endswith('.csv'):\n",
    "        df = pd.read_csv('../data/CNN_news/' + filename, header=None)\n",
    "        df.rename(columns={0: \"content\", 1: \"time\"}, inplace=True)\n",
    "        \n",
    "        key = filename.split('.')[0]\n",
    "        value = []\n",
    "\n",
    "        for txt in df.content:\n",
    "            # Remove the first 'b'\n",
    "            txt = txt[1:] \n",
    "            \n",
    "            # Remove punctuation\n",
    "            txt = txt.translate(str.maketrans('', '', string.punctuation)) \n",
    "            \n",
    "#             # Remove common terms\n",
    "#             common_terms = [\"of\", \"with\", \"without\", \"and\", \"or\", \"the\", \"a\", \"to\"]\n",
    "#             resultwords  = [word for word in txt.split() if word.lower() not in common_terms]\n",
    "#             txt = ' '.join(resultwords)\n",
    "            \n",
    "#             # Remove digits\n",
    "#             txt = ''.join([i for i in txt if not i.isdigit()])\n",
    "            \n",
    "            # Remove exception terms\n",
    "            resultwords  = [word for word in txt.split() if word in model]\n",
    "            txt = ' '.join(resultwords)\n",
    "            \n",
    "            value.append([model[x] for x in txt.split(' ') if x is not ''])\n",
    "\n",
    "        vec_dict[key] = value"
   ]
  },
  {
   "cell_type": "code",
   "execution_count": null,
   "metadata": {},
   "outputs": [],
   "source": []
  }
 ],
 "metadata": {
  "kernelspec": {
   "display_name": "Python 3",
   "language": "python",
   "name": "python3"
  },
  "language_info": {
   "codemirror_mode": {
    "name": "ipython",
    "version": 3
   },
   "file_extension": ".py",
   "mimetype": "text/x-python",
   "name": "python",
   "nbconvert_exporter": "python",
   "pygments_lexer": "ipython3",
   "version": "3.6.12"
  }
 },
 "nbformat": 4,
 "nbformat_minor": 4
}
