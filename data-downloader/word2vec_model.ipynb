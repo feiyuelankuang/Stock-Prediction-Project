{
 "cells": [
  {
   "cell_type": "code",
   "execution_count": 1,
   "metadata": {},
   "outputs": [],
   "source": [
    "from gensim.models import KeyedVectors\n",
    "import pandas as pd\n",
    "import os\n",
    "import string"
   ]
  },
  {
   "cell_type": "code",
   "execution_count": 2,
   "metadata": {},
   "outputs": [],
   "source": [
    "# Load vectors directly from the file\n",
    "model = KeyedVectors.load_word2vec_format('../data/GoogleNews-vectors-negative300.bin', binary=True)"
   ]
  },
  {
   "cell_type": "code",
   "execution_count": 6,
   "metadata": {},
   "outputs": [],
   "source": [
    "vec_dict = {}\n",
    "\n",
    "# Loop through folder\n",
    "for filename in os.listdir('../data/CNN_news/'):\n",
    "    if filename.endswith('.csv'):\n",
    "        df = pd.read_csv('../data/CNN_news/' + filename, header=None)\n",
    "        df.rename(columns={0: \"content\", 1: \"time\"}, inplace=True)\n",
    "        \n",
    "        key = filename.split('.')[0]\n",
    "        value = pd.DataFrame()\n",
    "        \n",
    "        for index, row in df.iterrows():\n",
    "            txt = row.content\n",
    "\n",
    "            # Remove the first 'b'\n",
    "            txt = txt[1:] \n",
    "            \n",
    "            # Remove punctuation\n",
    "            txt = txt.translate(str.maketrans('', '', string.punctuation)) \n",
    "            \n",
    "#             # Remove common terms\n",
    "#             common_terms = [\"of\", \"with\", \"without\", \"and\", \"or\", \"the\", \"a\", \"to\"]\n",
    "#             resultwords  = [word for word in txt.split() if word.lower() not in common_terms]\n",
    "#             txt = ' '.join(resultwords)\n",
    "            \n",
    "#             # Remove digits\n",
    "#             txt = ''.join([i for i in txt if not i.isdigit()])\n",
    "            \n",
    "            # Remove exception terms\n",
    "            resultwords  = [word for word in txt.split() if word in model]\n",
    "            txt = ' '.join(resultwords)\n",
    "            \n",
    "            # Add to DataFrame\n",
    "            value = value.append({\"time\": row.time, \"vec\": [model[x] for x in txt.split(' ') if x is not '']}, ignore_index=True)\n",
    "\n",
    "        vec_dict[key] = value"
   ]
  },
  {
   "cell_type": "code",
   "execution_count": 7,
   "metadata": {},
   "outputs": [
    {
     "data": {
      "text/plain": [
       "dict_keys(['apple_news_CNN', 'micro_news_CNN', 'walmart_news_CNN', 'Boeing_news_CNN', 'google_news_CNN', 'samsung_news_CNN'])"
      ]
     },
     "execution_count": 7,
     "metadata": {},
     "output_type": "execute_result"
    }
   ],
   "source": [
    "vec_dict.keys()"
   ]
  },
  {
   "cell_type": "code",
   "execution_count": 8,
   "metadata": {},
   "outputs": [
    {
     "data": {
      "text/html": [
       "<div>\n",
       "<style scoped>\n",
       "    .dataframe tbody tr th:only-of-type {\n",
       "        vertical-align: middle;\n",
       "    }\n",
       "\n",
       "    .dataframe tbody tr th {\n",
       "        vertical-align: top;\n",
       "    }\n",
       "\n",
       "    .dataframe thead th {\n",
       "        text-align: right;\n",
       "    }\n",
       "</style>\n",
       "<table border=\"1\" class=\"dataframe\">\n",
       "  <thead>\n",
       "    <tr style=\"text-align: right;\">\n",
       "      <th></th>\n",
       "      <th>time</th>\n",
       "      <th>vec</th>\n",
       "    </tr>\n",
       "  </thead>\n",
       "  <tbody>\n",
       "    <tr>\n",
       "      <td>0</td>\n",
       "      <td>2021-04-01T17:27:02Z</td>\n",
       "      <td>[[-0.17285156, 0.27929688, 0.106933594, -0.158...</td>\n",
       "    </tr>\n",
       "    <tr>\n",
       "      <td>1</td>\n",
       "      <td>2021-03-31T20:34:08Z</td>\n",
       "      <td>[[-0.17480469, 0.030029297, -0.21679688, 0.156...</td>\n",
       "    </tr>\n",
       "    <tr>\n",
       "      <td>2</td>\n",
       "      <td>2021-03-31T11:54:33Z</td>\n",
       "      <td>[[0.036621094, -0.3125, -0.08496094, -0.1875, ...</td>\n",
       "    </tr>\n",
       "    <tr>\n",
       "      <td>3</td>\n",
       "      <td>2021-03-31T15:12:07Z</td>\n",
       "      <td>[[-0.17285156, 0.27929688, 0.106933594, -0.158...</td>\n",
       "    </tr>\n",
       "    <tr>\n",
       "      <td>4</td>\n",
       "      <td>2020-04-19T22:55:17Z</td>\n",
       "      <td>[[0.16015625, 0.21679688, 0.05493164, 0.207031...</td>\n",
       "    </tr>\n",
       "    <tr>\n",
       "      <td>...</td>\n",
       "      <td>...</td>\n",
       "      <td>...</td>\n",
       "    </tr>\n",
       "    <tr>\n",
       "      <td>4960</td>\n",
       "      <td>2011-09-13T12:50:39Z</td>\n",
       "      <td>[[0.2734375, -0.16015625, -0.26367188, -0.0055...</td>\n",
       "    </tr>\n",
       "    <tr>\n",
       "      <td>4961</td>\n",
       "      <td>2011-09-08T11:17:08Z</td>\n",
       "      <td>[[0.0126953125, -0.016601562, 0.2109375, -0.01...</td>\n",
       "    </tr>\n",
       "    <tr>\n",
       "      <td>4962</td>\n",
       "      <td>2011-09-01T17:46:20Z</td>\n",
       "      <td>[[-0.111816406, -0.19824219, -0.17675781, -0.0...</td>\n",
       "    </tr>\n",
       "    <tr>\n",
       "      <td>4963</td>\n",
       "      <td>2011-08-31T21:05:37Z</td>\n",
       "      <td>[[0.25195312, -0.19140625, -0.12158203, -0.007...</td>\n",
       "    </tr>\n",
       "    <tr>\n",
       "      <td>4964</td>\n",
       "      <td>2011-08-31T09:00:13Z</td>\n",
       "      <td>[[0.125, 0.03491211, 0.13964844, 0.19140625, 0...</td>\n",
       "    </tr>\n",
       "  </tbody>\n",
       "</table>\n",
       "<p>4965 rows × 2 columns</p>\n",
       "</div>"
      ],
      "text/plain": [
       "                      time                                                vec\n",
       "0     2021-04-01T17:27:02Z  [[-0.17285156, 0.27929688, 0.106933594, -0.158...\n",
       "1     2021-03-31T20:34:08Z  [[-0.17480469, 0.030029297, -0.21679688, 0.156...\n",
       "2     2021-03-31T11:54:33Z  [[0.036621094, -0.3125, -0.08496094, -0.1875, ...\n",
       "3     2021-03-31T15:12:07Z  [[-0.17285156, 0.27929688, 0.106933594, -0.158...\n",
       "4     2020-04-19T22:55:17Z  [[0.16015625, 0.21679688, 0.05493164, 0.207031...\n",
       "...                    ...                                                ...\n",
       "4960  2011-09-13T12:50:39Z  [[0.2734375, -0.16015625, -0.26367188, -0.0055...\n",
       "4961  2011-09-08T11:17:08Z  [[0.0126953125, -0.016601562, 0.2109375, -0.01...\n",
       "4962  2011-09-01T17:46:20Z  [[-0.111816406, -0.19824219, -0.17675781, -0.0...\n",
       "4963  2011-08-31T21:05:37Z  [[0.25195312, -0.19140625, -0.12158203, -0.007...\n",
       "4964  2011-08-31T09:00:13Z  [[0.125, 0.03491211, 0.13964844, 0.19140625, 0...\n",
       "\n",
       "[4965 rows x 2 columns]"
      ]
     },
     "execution_count": 8,
     "metadata": {},
     "output_type": "execute_result"
    }
   ],
   "source": [
    "vec_dict['apple_news_CNN']"
   ]
  },
  {
   "cell_type": "code",
   "execution_count": null,
   "metadata": {},
   "outputs": [],
   "source": []
  }
 ],
 "metadata": {
  "kernelspec": {
   "display_name": "Python 3",
   "language": "python",
   "name": "python3"
  },
  "language_info": {
   "codemirror_mode": {
    "name": "ipython",
    "version": 3
   },
   "file_extension": ".py",
   "mimetype": "text/x-python",
   "name": "python",
   "nbconvert_exporter": "python",
   "pygments_lexer": "ipython3",
   "version": "3.6.12"
  }
 },
 "nbformat": 4,
 "nbformat_minor": 4
}
